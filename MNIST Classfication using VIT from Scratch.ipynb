{
 "cells": [
  {
   "cell_type": "markdown",
   "id": "9da7a393",
   "metadata": {},
   "source": [
    "# Import Libraries"
   ]
  },
  {
   "cell_type": "code",
   "execution_count": 1,
   "id": "321d993b",
   "metadata": {},
   "outputs": [
    {
     "data": {
      "text/plain": [
       "<torch._C.Generator at 0x220029ed1b0>"
      ]
     },
     "execution_count": 1,
     "metadata": {},
     "output_type": "execute_result"
    }
   ],
   "source": [
    "import numpy as np\n",
    "import cv2\n",
    "import matplotlib.pyplot as plt\n",
    "\n",
    "import torch\n",
    "from torch import nn\n",
    "from torch.utils.data import DataLoader\n",
    "from torchvision.datasets import MNIST\n",
    "from torch.optim import Adam\n",
    "from torchvision.transforms import ToTensor\n",
    "\n",
    "import random\n",
    "import time\n",
    "\n",
    "from tqdm import tqdm, trange\n",
    "\n",
    "np.random.seed(0)\n",
    "torch.manual_seed(0)"
   ]
  },
  {
   "cell_type": "code",
   "execution_count": 2,
   "id": "ce480e0f",
   "metadata": {},
   "outputs": [
    {
     "data": {
      "text/plain": [
       "'cuda'"
      ]
     },
     "execution_count": 2,
     "metadata": {},
     "output_type": "execute_result"
    }
   ],
   "source": [
    "device = \"cuda\" if torch.cuda.is_available else \"cpu\"\n",
    "\n",
    "imgSize = 28\n",
    "batchSize = 32\n",
    "LR = 0.005\n",
    "epochs = 50\n",
    "\n",
    "device"
   ]
  },
  {
   "cell_type": "markdown",
   "id": "180cf0b9",
   "metadata": {},
   "source": [
    "# Dataset and Dataloader"
   ]
  },
  {
   "cell_type": "code",
   "execution_count": 3,
   "id": "cfb505c9",
   "metadata": {},
   "outputs": [],
   "source": [
    "transforms = ToTensor()"
   ]
  },
  {
   "cell_type": "code",
   "execution_count": 4,
   "id": "cb6f1c90",
   "metadata": {},
   "outputs": [],
   "source": [
    "datasetTrain = MNIST(\"\", train=True, download=True, transform=transforms)\n",
    "datasetTest = MNIST(\"\", train=False, download=True, transform=transforms)\n",
    "\n",
    "dataloaderTrain = DataLoader(datasetTrain, batch_size=batchSize, shuffle=True)\n",
    "dataloaderTest = DataLoader(datasetTest, batch_size=batchSize, shuffle=True)"
   ]
  },
  {
   "cell_type": "markdown",
   "id": "be02fc1e",
   "metadata": {},
   "source": [
    "# VIT Model from Scratch"
   ]
  },
  {
   "cell_type": "code",
   "execution_count": 5,
   "id": "613c78b7",
   "metadata": {},
   "outputs": [],
   "source": [
    "# Patching Definition\n",
    "# Formual: (N,C,H,W) -> (N, PxP, HxC/P x WxC/P)\n",
    "\n",
    "def patchingModule(image, numberOfPatches):\n",
    "    N,C,H,W = image.shape\n",
    "    \n",
    "    assert H==W, \"For Patching Process Height and Width Must be Equal or Square Image\"\n",
    "    \n",
    "    patchSize = H//numberOfPatches\n",
    "    patches = torch.zeros(N, numberOfPatches ** 2, H * W * C // numberOfPatches ** 2).to(device)\n",
    "    \n",
    "    for idx, image in enumerate(image):\n",
    "        for i in range(numberOfPatches):\n",
    "            for j in range(numberOfPatches):\n",
    "                patch = image[:, i*patchSize:(i+1)*patchSize, j*patchSize:(j+1)*patchSize]\n",
    "                patches[idx, i * numberOfPatches + j] = patch.flatten()\n",
    "    return patches"
   ]
  },
  {
   "cell_type": "code",
   "execution_count": 6,
   "id": "2c876161",
   "metadata": {},
   "outputs": [],
   "source": [
    "def getPositionalEmbeddings(sequenceLength, dInner):\n",
    "    result = torch.ones(sequenceLength, dInner).to(device)\n",
    "    for i in range(sequenceLength):\n",
    "        for j in range(dInner):\n",
    "            result[i][j] = np.sin(i / (10000 ** (j / dInner))) if j % 2 == 0 else np.cos(i / (10000 ** ((j - 1) / dInner)))\n",
    "    return result\n",
    "# plt.imshow(get_positional_embeddings(200, 200), cmap=\"hot\", interpolation=\"nearest\")\n",
    "# plt.show()"
   ]
  },
  {
   "cell_type": "code",
   "execution_count": 7,
   "id": "976f9869",
   "metadata": {},
   "outputs": [],
   "source": [
    "class MultiHeadAttention(nn.Module):\n",
    "    def __init__(self, hiddenDim=8, nHeads=2):\n",
    "        super(MultiHeadAttention, self).__init__();\n",
    "        self.hiddenDim = hiddenDim\n",
    "        self.nHeads = nHeads\n",
    "        \n",
    "        assert self.hiddenDim % self.nHeads == 0 , \"Hiddendim should be divisible by nHeads\"\n",
    "        \n",
    "        self.hiddenDimsParting = int(self.hiddenDim//self.nHeads)\n",
    "        self.key = nn.Linear(self.hiddenDim, self.hiddenDim)\n",
    "        self.query = nn.Linear(self.hiddenDim, self.hiddenDim)\n",
    "        self.value = nn.Linear(self.hiddenDim, self.hiddenDim)\n",
    "        \n",
    "        self.softmax = nn.Softmax(dim=-1)\n",
    "        \n",
    "        self.lastLinear = nn.Linear(self.hiddenDim, self.hiddenDim)\n",
    "        \n",
    "        self.moduleList = nn.ModuleList()\n",
    "        \n",
    "    def forward(self, x):\n",
    "\n",
    "        for idx, batch in enumerate(x):\n",
    "            q = v = k = batch\n",
    "            heads = []\n",
    "            # Intialising Key, Query, Value as Linear mapping\n",
    "            keyBeforeHeadDivision = self.key(k)\n",
    "            queryBeforeHeadDivision = self.key(q)\n",
    "            valueBeforeHeadDivision = self.key(v)\n",
    "            \n",
    "            for head in range(self.nHeads):\n",
    "                keyAfterHeadPartition = keyBeforeHeadDivision[:, head*self.hiddenDimsParting:(head+1)*self.hiddenDimsParting]\n",
    "                queryAfterHeadPartition = queryBeforeHeadDivision[:, head*self.hiddenDimsParting:(head+1)*self.hiddenDimsParting]\n",
    "                valueAfterHeadPartition = valueBeforeHeadDivision[:, head*self.hiddenDimsParting:(head+1)*self.hiddenDimsParting]\n",
    "                \n",
    "                # matMulti: key*query\n",
    "                multiKeyQuery = torch.matmul(keyAfterHeadPartition, torch.transpose(queryAfterHeadPartition,0,1))\n",
    "                \n",
    "                # Scaling \n",
    "                multiKeyQuery = multiKeyQuery/(self.hiddenDim**0.5)\n",
    "                \n",
    "                # Softmax\n",
    "                multiKeyQuerySoftmax = self.softmax(multiKeyQuery)\n",
    "                \n",
    "                # matMulti: multiKeyQuerySoftmax*value\n",
    "                multiSoftmaxValue = torch.matmul(multiKeyQuerySoftmax, valueAfterHeadPartition)\n",
    "                heads.append(multiSoftmaxValue)\n",
    "                \n",
    "                if head==0:\n",
    "                    previous = multiSoftmaxValue\n",
    "                    if self.nHeads==1:\n",
    "                        return previous\n",
    "                elif head==1:\n",
    "                    concatFinal = torch.cat([previous, multiSoftmaxValue],dim=-1)\n",
    "                else:\n",
    "                    concatFinal = torch.cat([concatFinal, multiSoftmaxValue],dim=-1)\n",
    "            lastLinearLayer = self.lastLinear(concatFinal)\n",
    "            \n",
    "            if idx==0:\n",
    "                previousBatch = torch.unsqueeze(lastLinearLayer,0)\n",
    "            elif idx==1:\n",
    "                concatMultiHeadedAttention = torch.cat([previousBatch, torch.unsqueeze(lastLinearLayer,0)], dim=0)\n",
    "            else:\n",
    "                concatMultiHeadedAttention = torch.cat([concatMultiHeadedAttention, torch.unsqueeze(lastLinearLayer,0)], dim=0)\n",
    "        return concatMultiHeadedAttention\n",
    "            \n",
    "\n",
    "# msa = MultiHeadAttention(32,2)    # (hiddenDim, n_head)\n",
    "# out = msa(torch.rand(4,16,32))    # (N, Seq_length, hiddenDim)\n",
    "# print(out.shape)"
   ]
  },
  {
   "cell_type": "code",
   "execution_count": 8,
   "id": "4a41bda6",
   "metadata": {},
   "outputs": [],
   "source": [
    "class VITBlock(nn.Module):\n",
    "    def __init__(self, hiddenDim=8, nHeads=2, mlp_ratio=4):\n",
    "        super(VITBlock,self).__init__();\n",
    "        \n",
    "        self.normalisationLayer = nn.LazyBatchNorm1d()\n",
    "        self.msa = MultiHeadAttention(hiddenDim=8, nHeads=2).to(device)\n",
    "        \n",
    "        self.normalisationLayer2 = nn.LazyBatchNorm1d()\n",
    "        self.mlp = nn.Sequential(\n",
    "            nn.Linear(hiddenDim, mlp_ratio * hiddenDim),\n",
    "            nn.ReLU(),\n",
    "            nn.Linear(mlp_ratio * hiddenDim, hiddenDim)\n",
    "        )\n",
    "        \n",
    "    def forward(self,x):\n",
    "        layerNormal = self.normalisationLayer(x)\n",
    "        msaOutput = self.msa(layerNormal)\n",
    "        elementWiseAdd = torch.add(x,msaOutput)\n",
    "        secondLayerNormal = self.normalisationLayer2(elementWiseAdd)\n",
    "        MLPLayer = self.mlp(secondLayerNormal)\n",
    "        return torch.add(elementWiseAdd, MLPLayer)\n",
    "        \n",
    "# vitBlock = VITBlock(8,2)\n",
    "# out = vitBlock(torch.rand(4,50,8))\n",
    "# print(\"OutShape: \", out.shape)"
   ]
  },
  {
   "cell_type": "code",
   "execution_count": 9,
   "id": "e8b1fbe2",
   "metadata": {},
   "outputs": [],
   "source": [
    "class VIT(nn.Module):\n",
    "    def __init__(self, imgShape, numberOfPatches, outDim, numberofVITBlocks = 2, numberofHeads=2, hiddenDim=8,):\n",
    "        super(VIT, self).__init__()\n",
    "        \n",
    "        self.hiddenDim = hiddenDim\n",
    "        self.numberofVITBlocks = numberofVITBlocks\n",
    "        self.numberofHeads = numberofHeads\n",
    "        self.numberofVITBlocks = numberofVITBlocks\n",
    "        self.outDim = outDim\n",
    "        # Checking patches divisiblity\n",
    "        self.chw = imgShape #(C,H,W)\n",
    "        self.numberOfPatches = numberOfPatches\n",
    "        \n",
    "        assert self.chw[1] % self.numberOfPatches == 0, \"Height is not divisible by number of Patches, Please check once!!\"\n",
    "        assert self.chw[2] % self.numberOfPatches == 0, \"Width is not divisible by number of Patches, Please check once!!\"\n",
    "        \n",
    "        self.patchSize = (self.chw[1]//self.numberOfPatches, self.chw[2]//self.numberOfPatches)\n",
    "        \n",
    "        self.linear = nn.Linear(int(self.chw[0] * self.patchSize[0] * self.patchSize[1]), self.hiddenDim)\n",
    "        \n",
    "        # 2) Learnable classification token\n",
    "        self.classToken = nn.Parameter(torch.rand(1, self.hiddenDim))\n",
    "        \n",
    "        # 3) Positional embedding\n",
    "        self.register_buffer('positional_embeddings', getPositionalEmbeddings(numberOfPatches ** 2 + 1, hiddenDim), persistent=False)\n",
    "        \n",
    "        # 4) Transformer \n",
    "        self.vitBlock = VITBlock(self.hiddenDim, numberofHeads).to(device)\n",
    "        \n",
    "        # 5) Classification MLP\n",
    "        self.mlp = nn.Sequential(\n",
    "            nn.Linear(self.hiddenDim, self.outDim),\n",
    "            nn.Softmax(dim=-1)\n",
    "        )\n",
    "    def forward(self, image):\n",
    "        n, c, h, w = image.shape\n",
    "        #  (N,1,28,28) -> (N,49,16) \n",
    "        patches = patchingModule(image, self.numberOfPatches)\n",
    "        \n",
    "        #(N,49,16) -> (N,49,8) Linear Mapping to learn through patching\n",
    "        tokens = self.linear(patches) # linear Mapping To Patches are called Tokens\n",
    "        \n",
    "        # Adding classification token to the tokens\n",
    "        tokens = torch.cat((self.classToken.expand(n, 1, -1), tokens), dim=1)\n",
    "        \n",
    "        # Adding positional embedding\n",
    "        out = tokens + self.positional_embeddings.repeat(n, 1, 1)\n",
    "        \n",
    "        for i in range(self.numberofVITBlocks):\n",
    "            if i==0:\n",
    "                previousVitResult = self.vitBlock(out)\n",
    "                if self.numberofVITBlocks==1:\n",
    "                    return previousVitResult     \n",
    "            elif i==1:\n",
    "                VitResult = self.vitBlock(previousVitResult)\n",
    "            else:\n",
    "                VitResult = self.vitBlock(previousVitResult)\n",
    "        out = VitResult[:, 0]      \n",
    "        return self.mlp(out)"
   ]
  },
  {
   "cell_type": "code",
   "execution_count": 10,
   "id": "10a1b8b5",
   "metadata": {},
   "outputs": [
    {
     "name": "stderr",
     "output_type": "stream",
     "text": [
      "C:\\Users\\Rohit\\Anaconda3\\envs\\nlp\\lib\\site-packages\\torch\\nn\\modules\\lazy.py:180: UserWarning: Lazy modules are a new feature under heavy development so changes to the API or functionality can happen at any moment.\n",
      "  warnings.warn('Lazy modules are a new feature under heavy development '\n"
     ]
    },
    {
     "name": "stdout",
     "output_type": "stream",
     "text": [
      "torch.Size([32, 10])\n"
     ]
    }
   ],
   "source": [
    "model = VIT((1, 28, 28), 7, 10).to(device)\n",
    "\n",
    "x = torch.randn(32, 1, 28, 28).to(device) # Dummy images\n",
    "print(model(x).shape) # torch.Size([7, 49, 16])"
   ]
  },
  {
   "cell_type": "markdown",
   "id": "ef404a59",
   "metadata": {},
   "source": [
    "# Loss Function and Optimisers"
   ]
  },
  {
   "cell_type": "code",
   "execution_count": 11,
   "id": "322d1010",
   "metadata": {},
   "outputs": [],
   "source": [
    "optimizer = Adam(model.parameters())\n",
    "criterion = nn.CrossEntropyLoss()"
   ]
  },
  {
   "cell_type": "markdown",
   "id": "4653e35f",
   "metadata": {},
   "source": [
    "# training Loop "
   ]
  },
  {
   "cell_type": "code",
   "execution_count": 12,
   "id": "c5cb3f66",
   "metadata": {},
   "outputs": [],
   "source": [
    "TrainLoss = []\n",
    "TestLoss = []\n",
    "Acc = []"
   ]
  },
  {
   "cell_type": "code",
   "execution_count": 13,
   "id": "934926df",
   "metadata": {},
   "outputs": [
    {
     "name": "stderr",
     "output_type": "stream",
     "text": [
      "\r",
      "Training:   0%|                                                                                 | 0/50 [00:00<?, ?it/s]"
     ]
    },
    {
     "name": "stdout",
     "output_type": "stream",
     "text": [
      "Epoch 1/50 loss: 2.10\n"
     ]
    },
    {
     "name": "stderr",
     "output_type": "stream",
     "text": [
      "\r",
      "Training:   2%|█▍                                                                    | 1/50 [06:19<5:10:08, 379.76s/it]"
     ]
    },
    {
     "name": "stdout",
     "output_type": "stream",
     "text": [
      "Test loss: 1.95\n",
      "Test accuracy: 53.09%\n",
      "Epoch 2/50 loss: 1.87\n"
     ]
    },
    {
     "name": "stderr",
     "output_type": "stream",
     "text": [
      "\r",
      "Training:   4%|██▊                                                                   | 2/50 [13:14<5:20:07, 400.16s/it]"
     ]
    },
    {
     "name": "stdout",
     "output_type": "stream",
     "text": [
      "Test loss: 1.84\n",
      "Test accuracy: 63.99%\n",
      "Epoch 3/50 loss: 1.77\n"
     ]
    },
    {
     "name": "stderr",
     "output_type": "stream",
     "text": [
      "\r",
      "Training:   6%|████▏                                                                 | 3/50 [19:42<5:09:09, 394.66s/it]"
     ]
    },
    {
     "name": "stdout",
     "output_type": "stream",
     "text": [
      "Test loss: 1.75\n",
      "Test accuracy: 71.78%\n",
      "Epoch 4/50 loss: 1.73\n"
     ]
    },
    {
     "name": "stderr",
     "output_type": "stream",
     "text": [
      "\r",
      "Training:   8%|█████▌                                                                | 4/50 [26:05<4:59:00, 390.01s/it]"
     ]
    },
    {
     "name": "stdout",
     "output_type": "stream",
     "text": [
      "Test loss: 1.72\n",
      "Test accuracy: 74.34%\n",
      "Epoch 5/50 loss: 1.71\n"
     ]
    },
    {
     "name": "stderr",
     "output_type": "stream",
     "text": [
      "\r",
      "Training:  10%|███████                                                               | 5/50 [32:26<4:50:02, 386.71s/it]"
     ]
    },
    {
     "name": "stdout",
     "output_type": "stream",
     "text": [
      "Test loss: 1.71\n",
      "Test accuracy: 75.43%\n",
      "Epoch 6/50 loss: 1.69\n"
     ]
    },
    {
     "name": "stderr",
     "output_type": "stream",
     "text": [
      "\r",
      "Training:  12%|████████▍                                                             | 6/50 [38:45<4:41:52, 384.37s/it]"
     ]
    },
    {
     "name": "stdout",
     "output_type": "stream",
     "text": [
      "Test loss: 1.68\n",
      "Test accuracy: 78.86%\n",
      "Epoch 7/50 loss: 1.68\n"
     ]
    },
    {
     "name": "stderr",
     "output_type": "stream",
     "text": [
      "\r",
      "Training:  14%|█████████▊                                                            | 7/50 [45:08<4:35:04, 383.82s/it]"
     ]
    },
    {
     "name": "stdout",
     "output_type": "stream",
     "text": [
      "Test loss: 1.68\n",
      "Test accuracy: 78.73%\n",
      "Epoch 8/50 loss: 1.67\n"
     ]
    },
    {
     "name": "stderr",
     "output_type": "stream",
     "text": [
      "\r",
      "Training:  16%|███████████▏                                                          | 8/50 [51:30<4:28:08, 383.06s/it]"
     ]
    },
    {
     "name": "stdout",
     "output_type": "stream",
     "text": [
      "Test loss: 1.67\n",
      "Test accuracy: 79.34%\n",
      "Epoch 9/50 loss: 1.67\n"
     ]
    },
    {
     "name": "stderr",
     "output_type": "stream",
     "text": [
      "\r",
      "Training:  18%|████████████▌                                                         | 9/50 [57:53<4:21:49, 383.15s/it]"
     ]
    },
    {
     "name": "stdout",
     "output_type": "stream",
     "text": [
      "Test loss: 1.66\n",
      "Test accuracy: 79.92%\n",
      "Epoch 10/50 loss: 1.66\n"
     ]
    },
    {
     "name": "stderr",
     "output_type": "stream",
     "text": [
      "\r",
      "Training:  20%|█████████████▍                                                     | 10/50 [1:04:18<4:15:46, 383.66s/it]"
     ]
    },
    {
     "name": "stdout",
     "output_type": "stream",
     "text": [
      "Test loss: 1.66\n",
      "Test accuracy: 80.47%\n",
      "Epoch 11/50 loss: 1.66\n"
     ]
    },
    {
     "name": "stderr",
     "output_type": "stream",
     "text": [
      "\r",
      "Training:  22%|██████████████▋                                                    | 11/50 [1:10:44<4:09:50, 384.38s/it]"
     ]
    },
    {
     "name": "stdout",
     "output_type": "stream",
     "text": [
      "Test loss: 1.66\n",
      "Test accuracy: 80.10%\n",
      "Epoch 12/50 loss: 1.65\n"
     ]
    },
    {
     "name": "stderr",
     "output_type": "stream",
     "text": [
      "\r",
      "Training:  24%|████████████████                                                   | 12/50 [1:17:08<4:03:22, 384.28s/it]"
     ]
    },
    {
     "name": "stdout",
     "output_type": "stream",
     "text": [
      "Test loss: 1.64\n",
      "Test accuracy: 81.89%\n",
      "Epoch 13/50 loss: 1.65\n"
     ]
    },
    {
     "name": "stderr",
     "output_type": "stream",
     "text": [
      "\r",
      "Training:  26%|█████████████████▍                                                 | 13/50 [1:23:32<3:56:57, 384.25s/it]"
     ]
    },
    {
     "name": "stdout",
     "output_type": "stream",
     "text": [
      "Test loss: 1.64\n",
      "Test accuracy: 81.80%\n",
      "Epoch 14/50 loss: 1.65\n"
     ]
    },
    {
     "name": "stderr",
     "output_type": "stream",
     "text": [
      "\r",
      "Training:  28%|██████████████████▊                                                | 14/50 [1:29:32<3:46:13, 377.05s/it]"
     ]
    },
    {
     "name": "stdout",
     "output_type": "stream",
     "text": [
      "Test loss: 1.64\n",
      "Test accuracy: 81.87%\n",
      "Epoch 15/50 loss: 1.64\n"
     ]
    },
    {
     "name": "stderr",
     "output_type": "stream",
     "text": [
      "\r",
      "Training:  30%|████████████████████                                               | 15/50 [1:35:53<3:40:30, 378.01s/it]"
     ]
    },
    {
     "name": "stdout",
     "output_type": "stream",
     "text": [
      "Test loss: 1.64\n",
      "Test accuracy: 82.48%\n",
      "Epoch 16/50 loss: 1.64\n"
     ]
    },
    {
     "name": "stderr",
     "output_type": "stream",
     "text": [
      "\r",
      "Training:  32%|█████████████████████▍                                             | 16/50 [1:42:02<3:32:45, 375.45s/it]"
     ]
    },
    {
     "name": "stdout",
     "output_type": "stream",
     "text": [
      "Test loss: 1.63\n",
      "Test accuracy: 82.96%\n",
      "Epoch 17/50 loss: 1.64\n"
     ]
    },
    {
     "name": "stderr",
     "output_type": "stream",
     "text": [
      "\r",
      "Training:  34%|██████████████████████▊                                            | 17/50 [1:50:20<3:46:48, 412.39s/it]"
     ]
    },
    {
     "name": "stdout",
     "output_type": "stream",
     "text": [
      "Test loss: 1.64\n",
      "Test accuracy: 82.32%\n",
      "Epoch 18/50 loss: 1.64\n"
     ]
    },
    {
     "name": "stderr",
     "output_type": "stream",
     "text": [
      "\r",
      "Training:  36%|████████████████████████                                           | 18/50 [2:00:49<4:14:31, 477.23s/it]"
     ]
    },
    {
     "name": "stdout",
     "output_type": "stream",
     "text": [
      "Test loss: 1.63\n",
      "Test accuracy: 83.14%\n",
      "Epoch 19/50 loss: 1.63\n"
     ]
    },
    {
     "name": "stderr",
     "output_type": "stream",
     "text": [
      "\r",
      "Training:  38%|█████████████████████████▍                                         | 19/50 [2:09:24<4:12:26, 488.61s/it]"
     ]
    },
    {
     "name": "stdout",
     "output_type": "stream",
     "text": [
      "Test loss: 1.62\n",
      "Test accuracy: 84.17%\n",
      "Epoch 20/50 loss: 1.63\n"
     ]
    },
    {
     "name": "stderr",
     "output_type": "stream",
     "text": [
      "\r",
      "Training:  40%|██████████████████████████▊                                        | 20/50 [2:15:23<3:44:51, 449.71s/it]"
     ]
    },
    {
     "name": "stdout",
     "output_type": "stream",
     "text": [
      "Test loss: 1.62\n",
      "Test accuracy: 84.01%\n",
      "Epoch 21/50 loss: 1.63\n"
     ]
    },
    {
     "name": "stderr",
     "output_type": "stream",
     "text": [
      "\r",
      "Training:  42%|████████████████████████████▏                                      | 21/50 [2:22:31<3:34:18, 443.41s/it]"
     ]
    },
    {
     "name": "stdout",
     "output_type": "stream",
     "text": [
      "Test loss: 1.63\n",
      "Test accuracy: 83.41%\n",
      "Epoch 22/50 loss: 1.63\n"
     ]
    },
    {
     "name": "stderr",
     "output_type": "stream",
     "text": [
      "\r",
      "Training:  44%|█████████████████████████████▍                                     | 22/50 [2:32:15<3:46:33, 485.50s/it]"
     ]
    },
    {
     "name": "stdout",
     "output_type": "stream",
     "text": [
      "Test loss: 1.62\n",
      "Test accuracy: 84.19%\n",
      "Epoch 23/50 loss: 1.63\n"
     ]
    },
    {
     "name": "stderr",
     "output_type": "stream",
     "text": [
      "\r",
      "Training:  46%|██████████████████████████████▊                                    | 23/50 [2:41:47<3:50:12, 511.56s/it]"
     ]
    },
    {
     "name": "stdout",
     "output_type": "stream",
     "text": [
      "Test loss: 1.65\n",
      "Test accuracy: 81.23%\n",
      "Epoch 24/50 loss: 1.62\n"
     ]
    },
    {
     "name": "stderr",
     "output_type": "stream",
     "text": [
      "\r",
      "Training:  48%|████████████████████████████████▏                                  | 24/50 [2:49:36<3:36:03, 498.58s/it]"
     ]
    },
    {
     "name": "stdout",
     "output_type": "stream",
     "text": [
      "Test loss: 1.62\n",
      "Test accuracy: 83.92%\n",
      "Epoch 25/50 loss: 1.62\n"
     ]
    },
    {
     "name": "stderr",
     "output_type": "stream",
     "text": [
      "\r",
      "Training:  50%|█████████████████████████████████▌                                 | 25/50 [2:55:35<3:10:16, 456.65s/it]"
     ]
    },
    {
     "name": "stdout",
     "output_type": "stream",
     "text": [
      "Test loss: 1.63\n",
      "Test accuracy: 83.66%\n",
      "Epoch 26/50 loss: 1.62\n"
     ]
    },
    {
     "name": "stderr",
     "output_type": "stream",
     "text": [
      "\r",
      "Training:  52%|██████████████████████████████████▊                                | 26/50 [3:01:52<2:53:12, 433.00s/it]"
     ]
    },
    {
     "name": "stdout",
     "output_type": "stream",
     "text": [
      "Test loss: 1.62\n",
      "Test accuracy: 83.98%\n",
      "Epoch 27/50 loss: 1.62\n"
     ]
    },
    {
     "name": "stderr",
     "output_type": "stream",
     "text": [
      "\r",
      "Training:  54%|████████████████████████████████████▏                              | 27/50 [3:08:12<2:39:49, 416.94s/it]"
     ]
    },
    {
     "name": "stdout",
     "output_type": "stream",
     "text": [
      "Test loss: 1.62\n",
      "Test accuracy: 84.27%\n",
      "Epoch 28/50 loss: 1.62\n"
     ]
    },
    {
     "name": "stderr",
     "output_type": "stream",
     "text": [
      "\r",
      "Training:  56%|█████████████████████████████████████▌                             | 28/50 [3:14:33<2:28:54, 406.10s/it]"
     ]
    },
    {
     "name": "stdout",
     "output_type": "stream",
     "text": [
      "Test loss: 1.62\n",
      "Test accuracy: 84.40%\n",
      "Epoch 29/50 loss: 1.62\n"
     ]
    },
    {
     "name": "stderr",
     "output_type": "stream",
     "text": [
      "\r",
      "Training:  58%|██████████████████████████████████████▊                            | 29/50 [3:20:51<2:19:11, 397.67s/it]"
     ]
    },
    {
     "name": "stdout",
     "output_type": "stream",
     "text": [
      "Test loss: 1.62\n",
      "Test accuracy: 83.65%\n",
      "Epoch 30/50 loss: 1.62\n"
     ]
    },
    {
     "name": "stderr",
     "output_type": "stream",
     "text": [
      "\r",
      "Training:  60%|████████████████████████████████████████▏                          | 30/50 [3:27:11<2:10:52, 392.61s/it]"
     ]
    },
    {
     "name": "stdout",
     "output_type": "stream",
     "text": [
      "Test loss: 1.61\n",
      "Test accuracy: 85.44%\n",
      "Epoch 31/50 loss: 1.61\n"
     ]
    },
    {
     "name": "stderr",
     "output_type": "stream",
     "text": [
      "\r",
      "Training:  62%|█████████████████████████████████████████▌                         | 31/50 [3:33:33<2:03:16, 389.29s/it]"
     ]
    },
    {
     "name": "stdout",
     "output_type": "stream",
     "text": [
      "Test loss: 1.62\n",
      "Test accuracy: 84.48%\n",
      "Epoch 32/50 loss: 1.61\n"
     ]
    },
    {
     "name": "stderr",
     "output_type": "stream",
     "text": [
      "\r",
      "Training:  64%|██████████████████████████████████████████▉                        | 32/50 [3:39:56<1:56:13, 387.43s/it]"
     ]
    },
    {
     "name": "stdout",
     "output_type": "stream",
     "text": [
      "Test loss: 1.61\n",
      "Test accuracy: 85.03%\n",
      "Epoch 33/50 loss: 1.61\n"
     ]
    },
    {
     "name": "stderr",
     "output_type": "stream",
     "text": [
      "\r",
      "Training:  66%|████████████████████████████████████████████▏                      | 33/50 [3:46:17<1:49:13, 385.50s/it]"
     ]
    },
    {
     "name": "stdout",
     "output_type": "stream",
     "text": [
      "Test loss: 1.61\n",
      "Test accuracy: 85.01%\n",
      "Epoch 34/50 loss: 1.61\n"
     ]
    },
    {
     "name": "stderr",
     "output_type": "stream",
     "text": [
      "\r",
      "Training:  68%|█████████████████████████████████████████████▌                     | 34/50 [3:52:37<1:42:20, 383.79s/it]"
     ]
    },
    {
     "name": "stdout",
     "output_type": "stream",
     "text": [
      "Test loss: 1.61\n",
      "Test accuracy: 85.53%\n",
      "Epoch 35/50 loss: 1.61\n"
     ]
    },
    {
     "name": "stderr",
     "output_type": "stream",
     "text": [
      "\r",
      "Training:  70%|██████████████████████████████████████████████▉                    | 35/50 [3:58:56<1:35:37, 382.51s/it]"
     ]
    },
    {
     "name": "stdout",
     "output_type": "stream",
     "text": [
      "Test loss: 1.60\n",
      "Test accuracy: 85.72%\n",
      "Epoch 36/50 loss: 1.60\n"
     ]
    },
    {
     "name": "stderr",
     "output_type": "stream",
     "text": [
      "\r",
      "Training:  72%|████████████████████████████████████████████████▏                  | 36/50 [4:05:16<1:29:04, 381.74s/it]"
     ]
    },
    {
     "name": "stdout",
     "output_type": "stream",
     "text": [
      "Test loss: 1.59\n",
      "Test accuracy: 86.67%\n",
      "Epoch 37/50 loss: 1.60\n"
     ]
    },
    {
     "name": "stderr",
     "output_type": "stream",
     "text": [
      "\r",
      "Training:  74%|█████████████████████████████████████████████████▌                 | 37/50 [4:11:56<1:23:50, 386.99s/it]"
     ]
    },
    {
     "name": "stdout",
     "output_type": "stream",
     "text": [
      "Test loss: 1.60\n",
      "Test accuracy: 86.03%\n",
      "Epoch 38/50 loss: 1.60\n"
     ]
    },
    {
     "name": "stderr",
     "output_type": "stream",
     "text": [
      "\r",
      "Training:  76%|██████████████████████████████████████████████████▉                | 38/50 [4:18:44<1:18:40, 393.41s/it]"
     ]
    },
    {
     "name": "stdout",
     "output_type": "stream",
     "text": [
      "Test loss: 1.59\n",
      "Test accuracy: 86.72%\n",
      "Epoch 39/50 loss: 1.60\n"
     ]
    },
    {
     "name": "stderr",
     "output_type": "stream",
     "text": [
      "\r",
      "Training:  78%|████████████████████████████████████████████████████▎              | 39/50 [4:24:56<1:10:56, 386.92s/it]"
     ]
    },
    {
     "name": "stdout",
     "output_type": "stream",
     "text": [
      "Test loss: 1.60\n",
      "Test accuracy: 86.13%\n",
      "Epoch 40/50 loss: 1.60\n"
     ]
    },
    {
     "name": "stderr",
     "output_type": "stream",
     "text": [
      "\r",
      "Training:  80%|█████████████████████████████████████████████████████▌             | 40/50 [4:31:05<1:03:36, 381.69s/it]"
     ]
    },
    {
     "name": "stdout",
     "output_type": "stream",
     "text": [
      "Test loss: 1.60\n",
      "Test accuracy: 85.91%\n",
      "Epoch 41/50 loss: 1.60\n"
     ]
    },
    {
     "name": "stderr",
     "output_type": "stream",
     "text": [
      "\r",
      "Training:  82%|████████████████████████████████████████████████████████▌            | 41/50 [4:36:58<55:56, 372.95s/it]"
     ]
    },
    {
     "name": "stdout",
     "output_type": "stream",
     "text": [
      "Test loss: 1.59\n",
      "Test accuracy: 87.15%\n",
      "Epoch 42/50 loss: 1.60\n"
     ]
    },
    {
     "name": "stderr",
     "output_type": "stream",
     "text": [
      "\r",
      "Training:  84%|█████████████████████████████████████████████████████████▉           | 42/50 [4:43:19<50:04, 375.51s/it]"
     ]
    },
    {
     "name": "stdout",
     "output_type": "stream",
     "text": [
      "Test loss: 1.60\n",
      "Test accuracy: 86.50%\n",
      "Epoch 43/50 loss: 1.59\n"
     ]
    },
    {
     "name": "stderr",
     "output_type": "stream",
     "text": [
      "\r",
      "Training:  86%|███████████████████████████████████████████████████████████▎         | 43/50 [4:49:39<43:57, 376.75s/it]"
     ]
    },
    {
     "name": "stdout",
     "output_type": "stream",
     "text": [
      "Test loss: 1.61\n",
      "Test accuracy: 85.25%\n",
      "Epoch 44/50 loss: 1.59\n"
     ]
    },
    {
     "name": "stderr",
     "output_type": "stream",
     "text": [
      "\r",
      "Training:  88%|████████████████████████████████████████████████████████████▋        | 44/50 [4:55:58<37:45, 377.51s/it]"
     ]
    },
    {
     "name": "stdout",
     "output_type": "stream",
     "text": [
      "Test loss: 1.59\n",
      "Test accuracy: 87.24%\n",
      "Epoch 45/50 loss: 1.59\n"
     ]
    },
    {
     "name": "stderr",
     "output_type": "stream",
     "text": [
      "\r",
      "Training:  90%|██████████████████████████████████████████████████████████████       | 45/50 [5:02:25<31:40, 380.16s/it]"
     ]
    },
    {
     "name": "stdout",
     "output_type": "stream",
     "text": [
      "Test loss: 1.58\n",
      "Test accuracy: 87.68%\n",
      "Epoch 46/50 loss: 1.59\n"
     ]
    },
    {
     "name": "stderr",
     "output_type": "stream",
     "text": [
      "\r",
      "Training:  92%|███████████████████████████████████████████████████████████████▍     | 46/50 [5:08:40<25:15, 378.75s/it]"
     ]
    },
    {
     "name": "stdout",
     "output_type": "stream",
     "text": [
      "Test loss: 1.59\n",
      "Test accuracy: 87.67%\n",
      "Epoch 47/50 loss: 1.59\n"
     ]
    },
    {
     "name": "stderr",
     "output_type": "stream",
     "text": [
      "\r",
      "Training:  94%|████████████████████████████████████████████████████████████████▊    | 47/50 [5:14:57<18:54, 378.28s/it]"
     ]
    },
    {
     "name": "stdout",
     "output_type": "stream",
     "text": [
      "Test loss: 1.59\n",
      "Test accuracy: 87.24%\n",
      "Epoch 48/50 loss: 1.59\n"
     ]
    },
    {
     "name": "stderr",
     "output_type": "stream",
     "text": [
      "\r",
      "Training:  96%|██████████████████████████████████████████████████████████████████▏  | 48/50 [5:21:09<12:32, 376.25s/it]"
     ]
    },
    {
     "name": "stdout",
     "output_type": "stream",
     "text": [
      "Test loss: 1.59\n",
      "Test accuracy: 87.44%\n",
      "Epoch 49/50 loss: 1.59\n"
     ]
    },
    {
     "name": "stderr",
     "output_type": "stream",
     "text": [
      "\r",
      "Training:  98%|███████████████████████████████████████████████████████████████████▌ | 49/50 [5:27:25<06:16, 376.36s/it]"
     ]
    },
    {
     "name": "stdout",
     "output_type": "stream",
     "text": [
      "Test loss: 1.58\n",
      "Test accuracy: 87.71%\n",
      "Epoch 50/50 loss: 1.59\n"
     ]
    },
    {
     "name": "stderr",
     "output_type": "stream",
     "text": [
      "Training: 100%|█████████████████████████████████████████████████████████████████████| 50/50 [5:33:46<00:00, 400.52s/it]"
     ]
    },
    {
     "name": "stdout",
     "output_type": "stream",
     "text": [
      "Test loss: 1.58\n",
      "Test accuracy: 87.85%\n"
     ]
    },
    {
     "name": "stderr",
     "output_type": "stream",
     "text": [
      "\n"
     ]
    }
   ],
   "source": [
    "for epoch in trange(epochs, desc=\"Training\"):\n",
    "    train_loss = 0.0\n",
    "    for batch in dataloaderTrain:\n",
    "        x, y = batch\n",
    "        x, y = x.to(device), y.to(device)\n",
    "        y_hat = model(x)\n",
    "        loss = criterion(y_hat, y)\n",
    "\n",
    "        train_loss += loss.detach().cpu().item() / len(dataloaderTrain)\n",
    "\n",
    "        optimizer.zero_grad()\n",
    "        loss.backward()\n",
    "        optimizer.step()\n",
    "    TrainLoss.append(train_loss)\n",
    "    print(f\"Epoch {epoch + 1}/{epochs} loss: {train_loss:.2f}\")\n",
    "\n",
    "    # Test loop\n",
    "    with torch.no_grad():\n",
    "        correct, total = 0, 0\n",
    "        test_loss = 0.0\n",
    "        for batch in dataloaderTest:\n",
    "            x, y = batch\n",
    "            x, y = x.to(device), y.to(device)\n",
    "            y_hat = model(x)\n",
    "            loss = criterion(y_hat, y)\n",
    "            test_loss += loss.detach().cpu().item() / len(dataloaderTest)\n",
    "\n",
    "            correct += torch.sum(torch.argmax(y_hat, dim=1) == y).detach().cpu().item()\n",
    "            total += len(x)\n",
    "        TestLoss.append(test_loss)\n",
    "        Acc.append(correct / total)\n",
    "        print(f\"Test loss: {test_loss:.2f}\")\n",
    "        print(f\"Test accuracy: {correct / total * 100:.2f}%\")"
   ]
  },
  {
   "cell_type": "code",
   "execution_count": 14,
   "id": "3c6bfe2d",
   "metadata": {},
   "outputs": [],
   "source": [
    "# epochs\n",
    "ep = [i for i in range(epochs)]"
   ]
  },
  {
   "cell_type": "code",
   "execution_count": 15,
   "id": "a2559e6c",
   "metadata": {},
   "outputs": [
    {
     "data": {
      "image/png": "[encoded data removed]",
      "text/plain": [
       "<Figure size 640x480 with 1 Axes>"
      ]
     },
     "metadata": {},
     "output_type": "display_data"
    }
   ],
   "source": [
    "plt.title(\"Training Loss Testing Loss vs Epochs\")\n",
    "plt.plot(ep, TrainLoss, label=\"Training Loss\")\n",
    "plt.plot(ep, TestLoss, label=\"Testing Loss\")\n",
    "plt.xlabel(\"Epochs\")\n",
    "plt.ylabel(\"Losses\")\n",
    "plt.legend()\n",
    "plt.show()"
   ]
  },
  {
   "cell_type": "code",
   "execution_count": 16,
   "id": "c2709d4d",
   "metadata": {},
   "outputs": [
    {
     "data": {
      "image/png": "[encoded data removed]",
      "text/plain": [
       "<Figure size 640x480 with 1 Axes>"
      ]
     },
     "metadata": {},
     "output_type": "display_data"
    }
   ],
   "source": [
    "plt.title(\"Accuracy vs Epochs\")\n",
    "plt.plot(ep, Acc, label=\"Accuracy\")\n",
    "plt.xlabel(\"Epochs\")\n",
    "plt.ylabel(\"Accuracy\")\n",
    "plt.legend()\n",
    "plt.show()"
   ]
  },
  {
   "cell_type": "code",
   "execution_count": 17,
   "id": "d5b12725",
   "metadata": {},
   "outputs": [
    {
     "data": {
      "image/png": "[encoded data removed]",
      "text/plain": [
       "<Figure size 640x480 with 1 Axes>"
      ]
     },
     "metadata": {},
     "output_type": "display_data"
    }
   ],
   "source": [
    "plt.title(\"Training Loss Testing Loss vs Epochs\")\n",
    "plt.plot(ep, TrainLoss, label=\"Training Loss\")\n",
    "plt.plot(ep, TestLoss, label=\"Testing Loss\")\n",
    "plt.xlabel(\"Epochs\")\n",
    "plt.ylabel(\"Losses\")\n",
    "plt.legend()\n",
    "plt.savefig(\"Loss.png\",pad_inches=0.2)\n",
    "plt.show()"
   ]
  },
  {
   "cell_type": "code",
   "execution_count": 18,
   "id": "46ff04d7",
   "metadata": {},
   "outputs": [
    {
     "data": {
      "image/png": "[encoded data removed]",
      "text/plain": [
       "<Figure size 640x480 with 1 Axes>"
      ]
     },
     "metadata": {},
     "output_type": "display_data"
    }
   ],
   "source": [
    "plt.title(\"Accuracy vs Epochs\")\n",
    "plt.plot(ep, Acc, label=\"Accuracy\")\n",
    "plt.xlabel(\"Epochs\")\n",
    "plt.ylabel(\"Accuracy\")\n",
    "plt.legend()\n",
    "plt.savefig(\"Accuracy.png\",pad_inches=0.2)\n",
    "plt.show()"
   ]
  },
  {
   "cell_type": "code",
   "execution_count": null,
   "id": "bf5e0f04",
   "metadata": {},
   "outputs": [],
   "source": []
  }
 ],
 "metadata": {
  "kernelspec": {
   "display_name": "Python 3 (ipykernel)",
   "language": "python",
   "name": "python3"
  },
  "language_info": {
   "codemirror_mode": {
    "name": "ipython",
    "version": 3
   },
   "file_extension": ".py",
   "mimetype": "text/x-python",
   "name": "python",
   "nbconvert_exporter": "python",
   "pygments_lexer": "ipython3",
   "version": "3.9.0"
  }
 },
 "nbformat": 4,
 "nbformat_minor": 5
}
